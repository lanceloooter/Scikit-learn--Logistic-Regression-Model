{
 "cells": [
  {
   "cell_type": "markdown",
   "id": "bdc8b4ad-8f4d-4341-9184-04e230ed2825",
   "metadata": {},
   "source": [
    "### Scikit-learn- Logistic Regression Model\n",
    "#### Submitted by: Lance Dominic C. Raquel "
   ]
  },
  {
   "cell_type": "code",
   "execution_count": 1,
   "id": "429d4655-3f84-4f3c-a28f-0e5f3c7b29c1",
   "metadata": {
    "tags": []
   },
   "outputs": [],
   "source": [
    "import pandas as pd\n",
    "import numpy as np\n",
    "import matplotlib.pyplot as plt\n",
    "import seaborn as sns\n",
    "import warnings\n",
    "import sklearn.cluster as cluster\n",
    "from sklearn.model_selection import train_test_split\n",
    "from sklearn.preprocessing import StandardScaler\n",
    "from sklearn.linear_model import LogisticRegression\n",
    "from sklearn.metrics import accuracy_score\n",
    "from matplotlib.colors import ListedColormap\n",
    "\n",
    "warnings.filterwarnings(\"ignore\")"
   ]
  },
  {
   "cell_type": "markdown",
   "id": "26c7ba1c-e360-45d1-a924-f0c9dab6ce1f",
   "metadata": {},
   "source": [
    "#### Part I – Importing the Dataset and Select Versicolor and Virginica (3 pts.)"
   ]
  },
  {
   "cell_type": "markdown",
   "id": "d94b8b32-694f-43be-a09d-81e5d52bfd20",
   "metadata": {},
   "source": [
    "##### 1.) Import the Iris data by:\n",
    "df = pd.read_csv('https://archive.ics.uci.edu/ml/''machine-learning-databases/iris/iris.data', header=None) Or iris = datasets.load_iris()"
   ]
  },
  {
   "cell_type": "code",
   "execution_count": 2,
   "id": "87579f24-ed91-48dc-943e-b642c7bdf78e",
   "metadata": {
    "tags": []
   },
   "outputs": [],
   "source": [
    "df = pd.read_csv('https://archive.ics.uci.edu/ml/' 'machine-learning-databases/iris/iris.data', header=None)"
   ]
  },
  {
   "cell_type": "markdown",
   "id": "18295888-dca0-4a98-9104-ec44dcef9cf4",
   "metadata": {},
   "source": [
    "##### 2.) From the data set select versicolor and virginica."
   ]
  },
  {
   "cell_type": "code",
   "execution_count": 3,
   "id": "f3832403-5972-45a8-80b0-defcb5f22aec",
   "metadata": {
    "tags": []
   },
   "outputs": [
    {
     "data": {
      "text/html": [
       "<div>\n",
       "<style scoped>\n",
       "    .dataframe tbody tr th:only-of-type {\n",
       "        vertical-align: middle;\n",
       "    }\n",
       "\n",
       "    .dataframe tbody tr th {\n",
       "        vertical-align: top;\n",
       "    }\n",
       "\n",
       "    .dataframe thead th {\n",
       "        text-align: right;\n",
       "    }\n",
       "</style>\n",
       "<table border=\"1\" class=\"dataframe\">\n",
       "  <thead>\n",
       "    <tr style=\"text-align: right;\">\n",
       "      <th></th>\n",
       "      <th>0</th>\n",
       "      <th>1</th>\n",
       "      <th>2</th>\n",
       "      <th>3</th>\n",
       "      <th>4</th>\n",
       "    </tr>\n",
       "  </thead>\n",
       "  <tbody>\n",
       "    <tr>\n",
       "      <th>50</th>\n",
       "      <td>7.0</td>\n",
       "      <td>3.2</td>\n",
       "      <td>4.7</td>\n",
       "      <td>1.4</td>\n",
       "      <td>0</td>\n",
       "    </tr>\n",
       "    <tr>\n",
       "      <th>51</th>\n",
       "      <td>6.4</td>\n",
       "      <td>3.2</td>\n",
       "      <td>4.5</td>\n",
       "      <td>1.5</td>\n",
       "      <td>0</td>\n",
       "    </tr>\n",
       "    <tr>\n",
       "      <th>52</th>\n",
       "      <td>6.9</td>\n",
       "      <td>3.1</td>\n",
       "      <td>4.9</td>\n",
       "      <td>1.5</td>\n",
       "      <td>0</td>\n",
       "    </tr>\n",
       "    <tr>\n",
       "      <th>53</th>\n",
       "      <td>5.5</td>\n",
       "      <td>2.3</td>\n",
       "      <td>4.0</td>\n",
       "      <td>1.3</td>\n",
       "      <td>0</td>\n",
       "    </tr>\n",
       "    <tr>\n",
       "      <th>54</th>\n",
       "      <td>6.5</td>\n",
       "      <td>2.8</td>\n",
       "      <td>4.6</td>\n",
       "      <td>1.5</td>\n",
       "      <td>0</td>\n",
       "    </tr>\n",
       "  </tbody>\n",
       "</table>\n",
       "</div>"
      ],
      "text/plain": [
       "      0    1    2    3  4\n",
       "50  7.0  3.2  4.7  1.4  0\n",
       "51  6.4  3.2  4.5  1.5  0\n",
       "52  6.9  3.1  4.9  1.5  0\n",
       "53  5.5  2.3  4.0  1.3  0\n",
       "54  6.5  2.8  4.6  1.5  0"
      ]
     },
     "execution_count": 3,
     "metadata": {},
     "output_type": "execute_result"
    }
   ],
   "source": [
    "df = df[50:150]\n",
    "X = df\n",
    "X[4] = np.where(df.iloc[:, -1] == 'Iris-versicolor', 0, 1)\n",
    "X.head()"
   ]
  },
  {
   "cell_type": "markdown",
   "id": "54a091a7-9a40-4cb9-99be-48f0d25d1d4e",
   "metadata": {},
   "source": [
    "##### 3.) Use the petal length and petal width as features"
   ]
  },
  {
   "cell_type": "code",
   "execution_count": 4,
   "id": "d3ca06d1-8509-4d74-b41d-57477f23eab1",
   "metadata": {
    "tags": []
   },
   "outputs": [
    {
     "data": {
      "text/html": [
       "<div>\n",
       "<style scoped>\n",
       "    .dataframe tbody tr th:only-of-type {\n",
       "        vertical-align: middle;\n",
       "    }\n",
       "\n",
       "    .dataframe tbody tr th {\n",
       "        vertical-align: top;\n",
       "    }\n",
       "\n",
       "    .dataframe thead th {\n",
       "        text-align: right;\n",
       "    }\n",
       "</style>\n",
       "<table border=\"1\" class=\"dataframe\">\n",
       "  <thead>\n",
       "    <tr style=\"text-align: right;\">\n",
       "      <th></th>\n",
       "      <th>2</th>\n",
       "      <th>3</th>\n",
       "    </tr>\n",
       "  </thead>\n",
       "  <tbody>\n",
       "    <tr>\n",
       "      <th>50</th>\n",
       "      <td>4.7</td>\n",
       "      <td>1.4</td>\n",
       "    </tr>\n",
       "    <tr>\n",
       "      <th>51</th>\n",
       "      <td>4.5</td>\n",
       "      <td>1.5</td>\n",
       "    </tr>\n",
       "    <tr>\n",
       "      <th>52</th>\n",
       "      <td>4.9</td>\n",
       "      <td>1.5</td>\n",
       "    </tr>\n",
       "    <tr>\n",
       "      <th>53</th>\n",
       "      <td>4.0</td>\n",
       "      <td>1.3</td>\n",
       "    </tr>\n",
       "    <tr>\n",
       "      <th>54</th>\n",
       "      <td>4.6</td>\n",
       "      <td>1.5</td>\n",
       "    </tr>\n",
       "    <tr>\n",
       "      <th>...</th>\n",
       "      <td>...</td>\n",
       "      <td>...</td>\n",
       "    </tr>\n",
       "    <tr>\n",
       "      <th>145</th>\n",
       "      <td>5.2</td>\n",
       "      <td>2.3</td>\n",
       "    </tr>\n",
       "    <tr>\n",
       "      <th>146</th>\n",
       "      <td>5.0</td>\n",
       "      <td>1.9</td>\n",
       "    </tr>\n",
       "    <tr>\n",
       "      <th>147</th>\n",
       "      <td>5.2</td>\n",
       "      <td>2.0</td>\n",
       "    </tr>\n",
       "    <tr>\n",
       "      <th>148</th>\n",
       "      <td>5.4</td>\n",
       "      <td>2.3</td>\n",
       "    </tr>\n",
       "    <tr>\n",
       "      <th>149</th>\n",
       "      <td>5.1</td>\n",
       "      <td>1.8</td>\n",
       "    </tr>\n",
       "  </tbody>\n",
       "</table>\n",
       "<p>100 rows × 2 columns</p>\n",
       "</div>"
      ],
      "text/plain": [
       "       2    3\n",
       "50   4.7  1.4\n",
       "51   4.5  1.5\n",
       "52   4.9  1.5\n",
       "53   4.0  1.3\n",
       "54   4.6  1.5\n",
       "..   ...  ...\n",
       "145  5.2  2.3\n",
       "146  5.0  1.9\n",
       "147  5.2  2.0\n",
       "148  5.4  2.3\n",
       "149  5.1  1.8\n",
       "\n",
       "[100 rows x 2 columns]"
      ]
     },
     "execution_count": 4,
     "metadata": {},
     "output_type": "execute_result"
    }
   ],
   "source": [
    "X = df.loc[:,2:3]\n",
    "y = df.loc[:,4].astype('category')\n",
    "X"
   ]
  },
  {
   "cell_type": "markdown",
   "id": "83e5347e-3ca9-4b83-8efd-39ed5204bf6b",
   "metadata": {},
   "source": [
    "#### Part II – Training the Logistic Regression Model (5 pts.)"
   ]
  },
  {
   "cell_type": "markdown",
   "id": "6031f6a2-823a-46a4-a430-bfdba6a805a6",
   "metadata": {
    "tags": []
   },
   "source": [
    "##### 1. Split the dataset to training data and test set with 30% test size and random state=1."
   ]
  },
  {
   "cell_type": "code",
   "execution_count": 6,
   "id": "79a89592-1ba5-4c50-886f-da277b898e8a",
   "metadata": {
    "tags": []
   },
   "outputs": [
    {
     "name": "stdout",
     "output_type": "stream",
     "text": [
      "Labels count in y_train: [35 35]\n",
      "Labels count in y_test: [15 15]\n"
     ]
    }
   ],
   "source": [
    "X_train, X_test, y_train, y_test = train_test_split(X, y, test_size = 0.3, random_state = 1, stratify = y)\n",
    "print('Labels count in y_train:', np.bincount(y_train))\n",
    "print('Labels count in y_test:', np.bincount(y_test))"
   ]
  },
  {
   "cell_type": "markdown",
   "id": "d6e22d6b-c9e5-4ad1-9056-189e2472bfd0",
   "metadata": {},
   "source": [
    "##### 2. Implement the feature scaling method."
   ]
  },
  {
   "cell_type": "code",
   "execution_count": 7,
   "id": "aff14c70-31ee-43a4-a803-0085ea6974d8",
   "metadata": {
    "tags": []
   },
   "outputs": [],
   "source": [
    "sc = StandardScaler()\n",
    "sc.fit(X_train)\n",
    "X_train_std = sc.transform(X_train)\n",
    "X_test_std = sc.transform(X_test)"
   ]
  },
  {
   "cell_type": "markdown",
   "id": "520aff92-a1c2-42d8-92b5-c7ebd77132a2",
   "metadata": {},
   "source": [
    "##### 3. Train the Logistic Regression Model by fitting the train data set using the LogisticRegression\n",
    "class and as well the familiar fit method from the linear_module with inverse regularization\n",
    "parameter 𝐶 = 100 and random_state=1"
   ]
  },
  {
   "cell_type": "code",
   "execution_count": 8,
   "id": "7fb1600c-7f24-4f26-82ff-481321a58a10",
   "metadata": {
    "tags": []
   },
   "outputs": [
    {
     "data": {
      "text/html": [
       "<style>#sk-container-id-1 {color: black;background-color: white;}#sk-container-id-1 pre{padding: 0;}#sk-container-id-1 div.sk-toggleable {background-color: white;}#sk-container-id-1 label.sk-toggleable__label {cursor: pointer;display: block;width: 100%;margin-bottom: 0;padding: 0.3em;box-sizing: border-box;text-align: center;}#sk-container-id-1 label.sk-toggleable__label-arrow:before {content: \"▸\";float: left;margin-right: 0.25em;color: #696969;}#sk-container-id-1 label.sk-toggleable__label-arrow:hover:before {color: black;}#sk-container-id-1 div.sk-estimator:hover label.sk-toggleable__label-arrow:before {color: black;}#sk-container-id-1 div.sk-toggleable__content {max-height: 0;max-width: 0;overflow: hidden;text-align: left;background-color: #f0f8ff;}#sk-container-id-1 div.sk-toggleable__content pre {margin: 0.2em;color: black;border-radius: 0.25em;background-color: #f0f8ff;}#sk-container-id-1 input.sk-toggleable__control:checked~div.sk-toggleable__content {max-height: 200px;max-width: 100%;overflow: auto;}#sk-container-id-1 input.sk-toggleable__control:checked~label.sk-toggleable__label-arrow:before {content: \"▾\";}#sk-container-id-1 div.sk-estimator input.sk-toggleable__control:checked~label.sk-toggleable__label {background-color: #d4ebff;}#sk-container-id-1 div.sk-label input.sk-toggleable__control:checked~label.sk-toggleable__label {background-color: #d4ebff;}#sk-container-id-1 input.sk-hidden--visually {border: 0;clip: rect(1px 1px 1px 1px);clip: rect(1px, 1px, 1px, 1px);height: 1px;margin: -1px;overflow: hidden;padding: 0;position: absolute;width: 1px;}#sk-container-id-1 div.sk-estimator {font-family: monospace;background-color: #f0f8ff;border: 1px dotted black;border-radius: 0.25em;box-sizing: border-box;margin-bottom: 0.5em;}#sk-container-id-1 div.sk-estimator:hover {background-color: #d4ebff;}#sk-container-id-1 div.sk-parallel-item::after {content: \"\";width: 100%;border-bottom: 1px solid gray;flex-grow: 1;}#sk-container-id-1 div.sk-label:hover label.sk-toggleable__label {background-color: #d4ebff;}#sk-container-id-1 div.sk-serial::before {content: \"\";position: absolute;border-left: 1px solid gray;box-sizing: border-box;top: 0;bottom: 0;left: 50%;z-index: 0;}#sk-container-id-1 div.sk-serial {display: flex;flex-direction: column;align-items: center;background-color: white;padding-right: 0.2em;padding-left: 0.2em;position: relative;}#sk-container-id-1 div.sk-item {position: relative;z-index: 1;}#sk-container-id-1 div.sk-parallel {display: flex;align-items: stretch;justify-content: center;background-color: white;position: relative;}#sk-container-id-1 div.sk-item::before, #sk-container-id-1 div.sk-parallel-item::before {content: \"\";position: absolute;border-left: 1px solid gray;box-sizing: border-box;top: 0;bottom: 0;left: 50%;z-index: -1;}#sk-container-id-1 div.sk-parallel-item {display: flex;flex-direction: column;z-index: 1;position: relative;background-color: white;}#sk-container-id-1 div.sk-parallel-item:first-child::after {align-self: flex-end;width: 50%;}#sk-container-id-1 div.sk-parallel-item:last-child::after {align-self: flex-start;width: 50%;}#sk-container-id-1 div.sk-parallel-item:only-child::after {width: 0;}#sk-container-id-1 div.sk-dashed-wrapped {border: 1px dashed gray;margin: 0 0.4em 0.5em 0.4em;box-sizing: border-box;padding-bottom: 0.4em;background-color: white;}#sk-container-id-1 div.sk-label label {font-family: monospace;font-weight: bold;display: inline-block;line-height: 1.2em;}#sk-container-id-1 div.sk-label-container {text-align: center;}#sk-container-id-1 div.sk-container {/* jupyter's `normalize.less` sets `[hidden] { display: none; }` but bootstrap.min.css set `[hidden] { display: none !important; }` so we also need the `!important` here to be able to override the default hidden behavior on the sphinx rendered scikit-learn.org. See: https://github.com/scikit-learn/scikit-learn/issues/21755 */display: inline-block !important;position: relative;}#sk-container-id-1 div.sk-text-repr-fallback {display: none;}</style><div id=\"sk-container-id-1\" class=\"sk-top-container\"><div class=\"sk-text-repr-fallback\"><pre>LogisticRegression(C=100, random_state=1)</pre><b>In a Jupyter environment, please rerun this cell to show the HTML representation or trust the notebook. <br />On GitHub, the HTML representation is unable to render, please try loading this page with nbviewer.org.</b></div><div class=\"sk-container\" hidden><div class=\"sk-item\"><div class=\"sk-estimator sk-toggleable\"><input class=\"sk-toggleable__control sk-hidden--visually\" id=\"sk-estimator-id-1\" type=\"checkbox\" checked><label for=\"sk-estimator-id-1\" class=\"sk-toggleable__label sk-toggleable__label-arrow\">LogisticRegression</label><div class=\"sk-toggleable__content\"><pre>LogisticRegression(C=100, random_state=1)</pre></div></div></div></div></div>"
      ],
      "text/plain": [
       "LogisticRegression(C=100, random_state=1)"
      ]
     },
     "execution_count": 8,
     "metadata": {},
     "output_type": "execute_result"
    }
   ],
   "source": [
    "lr = LogisticRegression(C = 100, random_state = 1)\n",
    "lr.fit(X_train_std, y_train)"
   ]
  },
  {
   "cell_type": "markdown",
   "id": "be699034-6655-445b-acad-865595345596",
   "metadata": {},
   "source": [
    "#### Part III – Evaluate the Logistic Regression Model (10 pts.)"
   ]
  },
  {
   "cell_type": "markdown",
   "id": "a2f3032f-8894-4c65-8cc4-7a5c7376caf9",
   "metadata": {},
   "source": [
    "##### 1. Count the number of misclassified samples."
   ]
  },
  {
   "cell_type": "code",
   "execution_count": 9,
   "id": "f06d4be4-b21f-4484-9fdd-2e7f731938c9",
   "metadata": {
    "tags": []
   },
   "outputs": [
    {
     "name": "stdout",
     "output_type": "stream",
     "text": [
      "Number of misclassified samples: 1\n"
     ]
    }
   ],
   "source": [
    "y_pred = lr.predict(X_test_std)\n",
    "print(f'Number of misclassified samples: {(y_test != y_pred).sum()}')"
   ]
  },
  {
   "cell_type": "markdown",
   "id": "92c181a0-a5d8-4cee-bb2e-54af068db2ac",
   "metadata": {},
   "source": [
    "##### 2. Determine which samples are misclassified. "
   ]
  },
  {
   "cell_type": "code",
   "execution_count": 10,
   "id": "e2407795-5563-419a-9b18-e4db60860896",
   "metadata": {
    "tags": []
   },
   "outputs": [
    {
     "name": "stdout",
     "output_type": "stream",
     "text": [
      "Misclassified sample: \n",
      " 100    False\n",
      "148    False\n",
      "62     False\n",
      "59     False\n",
      "87     False\n",
      "112    False\n",
      "126    False\n",
      "115    False\n",
      "97     False\n",
      "75     False\n",
      "106     True\n",
      "144    False\n",
      "124    False\n",
      "56     False\n",
      "121    False\n",
      "104    False\n",
      "55     False\n",
      "118    False\n",
      "51     False\n",
      "66     False\n",
      "65     False\n",
      "57     False\n",
      "61     False\n",
      "125    False\n",
      "107    False\n",
      "50     False\n",
      "58     False\n",
      "103    False\n",
      "116    False\n",
      "93     False\n",
      "Name: 4, dtype: bool\n"
     ]
    }
   ],
   "source": [
    "print(f'Misclassified sample: \\n {(y_test != y_pred)}')"
   ]
  },
  {
   "cell_type": "markdown",
   "id": "452bb534-79a6-4f5d-a8ca-d9dba07b0361",
   "metadata": {},
   "source": [
    "##### 3. Compare the predicted value and target value for the misclassified samples."
   ]
  },
  {
   "cell_type": "code",
   "execution_count": 11,
   "id": "60caed90-2534-496e-8a41-04a4adac1e75",
   "metadata": {
    "tags": []
   },
   "outputs": [
    {
     "data": {
      "text/html": [
       "<div>\n",
       "<style scoped>\n",
       "    .dataframe tbody tr th:only-of-type {\n",
       "        vertical-align: middle;\n",
       "    }\n",
       "\n",
       "    .dataframe tbody tr th {\n",
       "        vertical-align: top;\n",
       "    }\n",
       "\n",
       "    .dataframe thead th {\n",
       "        text-align: right;\n",
       "    }\n",
       "</style>\n",
       "<table border=\"1\" class=\"dataframe\">\n",
       "  <thead>\n",
       "    <tr style=\"text-align: right;\">\n",
       "      <th></th>\n",
       "      <th>4</th>\n",
       "      <th>0</th>\n",
       "    </tr>\n",
       "  </thead>\n",
       "  <tbody>\n",
       "    <tr>\n",
       "      <th>100</th>\n",
       "      <td>1</td>\n",
       "      <td>1</td>\n",
       "    </tr>\n",
       "    <tr>\n",
       "      <th>148</th>\n",
       "      <td>1</td>\n",
       "      <td>1</td>\n",
       "    </tr>\n",
       "    <tr>\n",
       "      <th>62</th>\n",
       "      <td>0</td>\n",
       "      <td>0</td>\n",
       "    </tr>\n",
       "    <tr>\n",
       "      <th>59</th>\n",
       "      <td>0</td>\n",
       "      <td>0</td>\n",
       "    </tr>\n",
       "    <tr>\n",
       "      <th>87</th>\n",
       "      <td>0</td>\n",
       "      <td>0</td>\n",
       "    </tr>\n",
       "    <tr>\n",
       "      <th>112</th>\n",
       "      <td>1</td>\n",
       "      <td>1</td>\n",
       "    </tr>\n",
       "    <tr>\n",
       "      <th>126</th>\n",
       "      <td>1</td>\n",
       "      <td>1</td>\n",
       "    </tr>\n",
       "    <tr>\n",
       "      <th>115</th>\n",
       "      <td>1</td>\n",
       "      <td>1</td>\n",
       "    </tr>\n",
       "    <tr>\n",
       "      <th>97</th>\n",
       "      <td>0</td>\n",
       "      <td>0</td>\n",
       "    </tr>\n",
       "    <tr>\n",
       "      <th>75</th>\n",
       "      <td>0</td>\n",
       "      <td>0</td>\n",
       "    </tr>\n",
       "    <tr>\n",
       "      <th>106</th>\n",
       "      <td>1</td>\n",
       "      <td>0</td>\n",
       "    </tr>\n",
       "    <tr>\n",
       "      <th>144</th>\n",
       "      <td>1</td>\n",
       "      <td>1</td>\n",
       "    </tr>\n",
       "    <tr>\n",
       "      <th>124</th>\n",
       "      <td>1</td>\n",
       "      <td>1</td>\n",
       "    </tr>\n",
       "    <tr>\n",
       "      <th>56</th>\n",
       "      <td>0</td>\n",
       "      <td>0</td>\n",
       "    </tr>\n",
       "    <tr>\n",
       "      <th>121</th>\n",
       "      <td>1</td>\n",
       "      <td>1</td>\n",
       "    </tr>\n",
       "    <tr>\n",
       "      <th>104</th>\n",
       "      <td>1</td>\n",
       "      <td>1</td>\n",
       "    </tr>\n",
       "    <tr>\n",
       "      <th>55</th>\n",
       "      <td>0</td>\n",
       "      <td>0</td>\n",
       "    </tr>\n",
       "    <tr>\n",
       "      <th>118</th>\n",
       "      <td>1</td>\n",
       "      <td>1</td>\n",
       "    </tr>\n",
       "    <tr>\n",
       "      <th>51</th>\n",
       "      <td>0</td>\n",
       "      <td>0</td>\n",
       "    </tr>\n",
       "    <tr>\n",
       "      <th>66</th>\n",
       "      <td>0</td>\n",
       "      <td>0</td>\n",
       "    </tr>\n",
       "    <tr>\n",
       "      <th>65</th>\n",
       "      <td>0</td>\n",
       "      <td>0</td>\n",
       "    </tr>\n",
       "    <tr>\n",
       "      <th>57</th>\n",
       "      <td>0</td>\n",
       "      <td>0</td>\n",
       "    </tr>\n",
       "    <tr>\n",
       "      <th>61</th>\n",
       "      <td>0</td>\n",
       "      <td>0</td>\n",
       "    </tr>\n",
       "    <tr>\n",
       "      <th>125</th>\n",
       "      <td>1</td>\n",
       "      <td>1</td>\n",
       "    </tr>\n",
       "    <tr>\n",
       "      <th>107</th>\n",
       "      <td>1</td>\n",
       "      <td>1</td>\n",
       "    </tr>\n",
       "    <tr>\n",
       "      <th>50</th>\n",
       "      <td>0</td>\n",
       "      <td>0</td>\n",
       "    </tr>\n",
       "    <tr>\n",
       "      <th>58</th>\n",
       "      <td>0</td>\n",
       "      <td>0</td>\n",
       "    </tr>\n",
       "    <tr>\n",
       "      <th>103</th>\n",
       "      <td>1</td>\n",
       "      <td>1</td>\n",
       "    </tr>\n",
       "    <tr>\n",
       "      <th>116</th>\n",
       "      <td>1</td>\n",
       "      <td>1</td>\n",
       "    </tr>\n",
       "    <tr>\n",
       "      <th>93</th>\n",
       "      <td>0</td>\n",
       "      <td>0</td>\n",
       "    </tr>\n",
       "  </tbody>\n",
       "</table>\n",
       "</div>"
      ],
      "text/plain": [
       "     4  0\n",
       "100  1  1\n",
       "148  1  1\n",
       "62   0  0\n",
       "59   0  0\n",
       "87   0  0\n",
       "112  1  1\n",
       "126  1  1\n",
       "115  1  1\n",
       "97   0  0\n",
       "75   0  0\n",
       "106  1  0\n",
       "144  1  1\n",
       "124  1  1\n",
       "56   0  0\n",
       "121  1  1\n",
       "104  1  1\n",
       "55   0  0\n",
       "118  1  1\n",
       "51   0  0\n",
       "66   0  0\n",
       "65   0  0\n",
       "57   0  0\n",
       "61   0  0\n",
       "125  1  1\n",
       "107  1  1\n",
       "50   0  0\n",
       "58   0  0\n",
       "103  1  1\n",
       "116  1  1\n",
       "93   0  0"
      ]
     },
     "execution_count": 11,
     "metadata": {},
     "output_type": "execute_result"
    }
   ],
   "source": [
    "Y = pd.concat([y_test, pd.DataFrame(y_pred, index = y_test.index)], axis = 1)\n",
    "Y"
   ]
  },
  {
   "cell_type": "markdown",
   "id": "37e88544-d5ff-4739-8bc3-1f3da2d8c568",
   "metadata": {},
   "source": [
    "##### 4. Print the probabilities that misclassified samples belong to a certain class using the\n",
    "predict_proba method. Do the highest probabilities of the misclassified samples correspond to\n",
    "the predicted class labels?"
   ]
  },
  {
   "cell_type": "code",
   "execution_count": 13,
   "id": "1f6e21c0-9a20-493c-9e54-a97157fcb670",
   "metadata": {
    "tags": []
   },
   "outputs": [
    {
     "data": {
      "text/plain": [
       "array([[6.82574743e-08, 9.99999932e-01],\n",
       "       [6.46191555e-05, 9.99935381e-01],\n",
       "       [9.99998865e-01, 1.13513366e-06],\n",
       "       [9.99983488e-01, 1.65121344e-05],\n",
       "       [9.99524663e-01, 4.75336827e-04],\n",
       "       [1.61243024e-04, 9.99838757e-01],\n",
       "       [4.62670048e-01, 5.37329952e-01],\n",
       "       [1.50925780e-04, 9.99849074e-01],\n",
       "       [9.99796446e-01, 2.03554120e-04],\n",
       "       [9.98853140e-01, 1.14685951e-03],\n",
       "       [9.63628618e-01, 3.63713821e-02],\n",
       "       [8.69898904e-07, 9.99999130e-01],\n",
       "       [2.95568980e-05, 9.99970443e-01],\n",
       "       [9.21407600e-01, 7.85924000e-02],\n",
       "       [5.94782622e-02, 9.40521738e-01],\n",
       "       [5.24118081e-06, 9.99994759e-01],\n",
       "       [9.98890403e-01, 1.10959739e-03],\n",
       "       [1.92218241e-10, 1.00000000e+00],\n",
       "       [9.93566522e-01, 6.43347771e-03],\n",
       "       [9.93566522e-01, 6.43347771e-03],\n",
       "       [9.98853140e-01, 1.14685951e-03],\n",
       "       [9.99999997e-01, 2.99205810e-09],\n",
       "       [9.99492181e-01, 5.07819455e-04],\n",
       "       [3.26392742e-05, 9.99967361e-01],\n",
       "       [2.56114778e-06, 9.99997439e-01],\n",
       "       [9.85578229e-01, 1.44217711e-02],\n",
       "       [9.97412015e-01, 2.58798540e-03],\n",
       "       [9.70714336e-04, 9.99029286e-01],\n",
       "       [2.26447900e-03, 9.97735521e-01],\n",
       "       [9.99999997e-01, 2.99205810e-09]])"
      ]
     },
     "execution_count": 13,
     "metadata": {},
     "output_type": "execute_result"
    }
   ],
   "source": [
    "lr.predict_proba(X_test_std)"
   ]
  },
  {
   "cell_type": "code",
   "execution_count": 14,
   "id": "a881ae1b-dbb6-4c04-8059-09c505fb5c71",
   "metadata": {
    "tags": []
   },
   "outputs": [
    {
     "data": {
      "text/plain": [
       "array([1, 1, 0, 0, 0, 1, 1, 1, 0, 0, 0, 1, 1, 0, 1, 1, 0, 1, 0, 0, 0, 0,\n",
       "       0, 1, 1, 0, 0, 1, 1, 0])"
      ]
     },
     "execution_count": 14,
     "metadata": {},
     "output_type": "execute_result"
    }
   ],
   "source": [
    "highest_probability_classes = lr.predict_proba(X_test_std).argmax(axis=1)\n",
    "highest_probability_classes"
   ]
  },
  {
   "cell_type": "markdown",
   "id": "a6222c95-7151-4db3-bfde-0b6d4a9872db",
   "metadata": {},
   "source": [
    "##### 5. Print the accuracy of the Logistic Regression model."
   ]
  },
  {
   "cell_type": "code",
   "execution_count": 15,
   "id": "1d460bde-7142-4019-926c-188a730543b5",
   "metadata": {
    "tags": []
   },
   "outputs": [
    {
     "name": "stdout",
     "output_type": "stream",
     "text": [
      "Accuracy: 0.97\n",
      "Accuracy: 0.97\n"
     ]
    }
   ],
   "source": [
    "print(f'Accuracy: {accuracy_score(y_test, y_pred):.2f}')\n",
    "print(f'Accuracy: {lr.score(X_test_std, y_test):.2f}')"
   ]
  },
  {
   "cell_type": "markdown",
   "id": "d200c015-66c2-4169-959c-c6e5ecebab00",
   "metadata": {
    "tags": []
   },
   "source": [
    "#### Part IV – Plotting the decision regions and the Data (15 pts.)"
   ]
  },
  {
   "cell_type": "markdown",
   "id": "797a8954-6e0b-4473-b4c5-f54226e59832",
   "metadata": {},
   "source": [
    "##### 1. Plot the different decision regions using Matplot. Set the petal length as the x-axis and the petal width as the y-axis\n",
    "##### 2. Visualize how well the decision regions separate the different samples in the plot. Use different colors and markers for the different class labels for the scatter plot of the samples.\n",
    "##### 3. Highlight the test samples by encircling them with black color.\n",
    "##### 4. Highlight the misclassified samples by encircling them with red color.\n",
    "##### 5. Put a legend that labels the class types of the different shapes in the scatter plot."
   ]
  },
  {
   "cell_type": "code",
   "execution_count": 38,
   "id": "bc17954a-b55d-4f46-b532-837f17afd3d1",
   "metadata": {
    "tags": []
   },
   "outputs": [
    {
     "data": {
      "image/png": "[encoded data removed]",
      "text/plain": [
       "<Figure size 640x480 with 1 Axes>"
      ]
     },
     "metadata": {},
     "output_type": "display_data"
    }
   ],
   "source": [
    "def plot_decision_regions(X, y, classifier, test_idx=None, resolution=0.02):\n",
    "    markers = ('p', 'x', 'o', '^', 'v')\n",
    "    colors = ('red', 'blue', 'gray', 'cyan')\n",
    "    cmap = ListedColormap(colors[:len(np.unique(y))])\n",
    "\n",
    "    x1_min, x1_max = X[:, 0].min() - 1, X[:, 0].max() + 1\n",
    "    x2_min, x2_max = X[:, 1].min() - 1, X[:, 1].max() + 1\n",
    "    xx1, xx2 = np.meshgrid(np.arange(x1_min, x1_max, resolution),\n",
    "                          np.arange(x2_min, x2_max, resolution))\n",
    "    Z = classifier.predict(np.array([xx1.ravel(), xx2.ravel()]).T)\n",
    "    Z = Z.reshape(xx1.shape)\n",
    "\n",
    "    plt.contourf(xx1, xx2, Z, alpha=0.3, cmap=cmap)\n",
    "    plt.xlim(xx1.min(), xx1.max())\n",
    "    plt.ylim(xx2.min(), xx2.max())\n",
    "    \n",
    "    for idx, cl in enumerate(np.unique(y)):\n",
    "        plt.scatter(x=X[y == cl, 0], y=X[y == cl, 1], alpha=0.8,\n",
    "                    c=colors[idx], marker=markers[idx], label=cl,\n",
    "                    edgecolor='black')\n",
    "\n",
    "    if test_idx:\n",
    "        X_test, y_test = X[test_idx], y[test_idx]\n",
    "        plt.scatter(X_test[:, 0], X_test[:, 1], c='none', edgecolor='black',\n",
    "                    alpha=1.0, linewidth=1, marker='o', s=100, label='test set')\n",
    "\n",
    "X_combined_std = np.vstack((X_train_std, X_test_std))\n",
    "y_combined = np.hstack((y_train, y_test))\n",
    "\n",
    "\n",
    "plot_decision_regions(X=X_combined_std, y=y_combined, classifier=lr, test_idx=range(30, 70))\n",
    "\n",
    "plt.xlabel('petal length [standardized]')\n",
    "plt.ylabel('petal width [standardized]')\n",
    "\n",
    "\n",
    "plt.legend(loc='lower right')\n",
    "\n",
    "plt.show()"
   ]
  },
  {
   "cell_type": "code",
   "execution_count": null,
   "id": "5635541a-1519-499d-b2aa-89994cdcd32c",
   "metadata": {},
   "outputs": [],
   "source": []
  },
  {
   "cell_type": "code",
   "execution_count": null,
   "id": "00b0b618-1619-4df3-97db-745571ab2ce6",
   "metadata": {},
   "outputs": [],
   "source": []
  },
  {
   "cell_type": "code",
   "execution_count": null,
   "id": "58979f00-70da-4b24-bf02-288dd6ec3ec4",
   "metadata": {},
   "outputs": [],
   "source": []
  },
  {
   "cell_type": "code",
   "execution_count": null,
   "id": "5a964d7b-43d4-485f-9000-25997c7a25f3",
   "metadata": {},
   "outputs": [],
   "source": []
  },
  {
   "cell_type": "code",
   "execution_count": null,
   "id": "0faaf766-8cf1-450a-ae79-72c8a7a2d279",
   "metadata": {},
   "outputs": [],
   "source": []
  },
  {
   "cell_type": "code",
   "execution_count": null,
   "id": "12338f5c-14db-4970-aeda-26267d214a78",
   "metadata": {},
   "outputs": [],
   "source": []
  }
 ],
 "metadata": {
  "kernelspec": {
   "display_name": "Python 3 (ipykernel)",
   "language": "python",
   "name": "python3"
  },
  "language_info": {
   "codemirror_mode": {
    "name": "ipython",
    "version": 3
   },
   "file_extension": ".py",
   "mimetype": "text/x-python",
   "name": "python",
   "nbconvert_exporter": "python",
   "pygments_lexer": "ipython3",
   "version": "3.11.7"
  },
  "widgets": {
   "application/vnd.jupyter.widget-state+json": {
    "state": {},
    "version_major": 2,
    "version_minor": 0
   }
  }
 },
 "nbformat": 4,
 "nbformat_minor": 5
}
